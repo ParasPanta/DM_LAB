{
 "cells": [
  {
   "cell_type": "code",
   "execution_count": 1,
   "id": "489c5710",
   "metadata": {},
   "outputs": [],
   "source": [
    "import numpy as np\n",
    "import pandas as pd"
   ]
  },
  {
   "cell_type": "code",
   "execution_count": 2,
   "id": "37907a3b",
   "metadata": {},
   "outputs": [],
   "source": [
    "A = [('A','B',1),('A','C',1),('C','A',1),('B','C',1),('C','D',1)]"
   ]
  },
  {
   "cell_type": "code",
   "execution_count": 3,
   "id": "2559bb3d",
   "metadata": {},
   "outputs": [
    {
     "data": {
      "text/plain": [
       "'C'"
      ]
     },
     "execution_count": 3,
     "metadata": {},
     "output_type": "execute_result"
    }
   ],
   "source": [
    "d_out = {\n",
    "    'A':[\"B\",\"C\"],\n",
    "    'C':[\"A\"],\n",
    "    'B':[\"C\"],\n",
    "    \n",
    "}\n",
    "\n",
    "d_in = {\n",
    "    'A':[\"C\"],\n",
    "    'C':[\"A\",\"B\"],\n",
    "    'B':[\"A\"]\n",
    "}\n",
    "d_in[\"A\"][0]"
   ]
  },
  {
   "cell_type": "code",
   "execution_count": 4,
   "id": "e9a4d9b0",
   "metadata": {},
   "outputs": [
    {
     "data": {
      "text/plain": [
       "1"
      ]
     },
     "execution_count": 4,
     "metadata": {},
     "output_type": "execute_result"
    }
   ],
   "source": [
    "pr={\n",
    "    \"A\":1,\n",
    "    \"B\":1,\n",
    "    \"C\":1\n",
    "}\n",
    "pr[\"C\"]"
   ]
  },
  {
   "cell_type": "code",
   "execution_count": 5,
   "id": "be897c8b",
   "metadata": {},
   "outputs": [],
   "source": [
    "c={\n",
    "    \"A\":2,\n",
    "    \"B\":1,\n",
    "    \"C\":1\n",
    "}"
   ]
  },
  {
   "cell_type": "code",
   "execution_count": 6,
   "id": "e7a41653",
   "metadata": {},
   "outputs": [],
   "source": [
    "d=0.85"
   ]
  },
  {
   "cell_type": "code",
   "execution_count": 7,
   "id": "f55c6cdb",
   "metadata": {},
   "outputs": [
    {
     "name": "stdout",
     "output_type": "stream",
     "text": [
      "0.15\n",
      "0.15\n"
     ]
    },
    {
     "data": {
      "text/plain": [
       "{'A': 1.0541874999999998, 'B': 0.5980296875, 'C': 1.106354921875}"
      ]
     },
     "execution_count": 7,
     "metadata": {},
     "output_type": "execute_result"
    }
   ],
   "source": [
    "it_count=0\n",
    "while it_count!=2:\n",
    "    pr_in_a=d_in[\"A\"]\n",
    "    pra=0.15\n",
    "    print(pra)\n",
    "    for item in pr_in_a:\n",
    "        pra = pra + d*(pr[item]/c[item])\n",
    "#         print(c[item])\n",
    "#         print(pr[item])\n",
    "#         print(pra)\n",
    "    pr['A']=pra\n",
    "    \n",
    "    pr_in_b=d_in[\"B\"]\n",
    "    prb=(1-d)\n",
    "    for item in pr_in_b:\n",
    "        prb = prb + d*(pr[item]/c[item])\n",
    "    pr['B']=prb\n",
    "    \n",
    "    pr_in_c=d_in[\"C\"]\n",
    "    prc=(1-d)\n",
    "    for item in pr_in_c:\n",
    "        prc = prc + d*(pr[item]/c[item])\n",
    "    pr['C']=prc\n",
    "    \n",
    "    it_count+=1\n",
    "pr"
   ]
  },
  {
   "cell_type": "code",
   "execution_count": null,
   "id": "d9fa11fb",
   "metadata": {},
   "outputs": [],
   "source": []
  }
 ],
 "metadata": {
  "kernelspec": {
   "display_name": "Python 3.8.10 64-bit",
   "language": "python",
   "name": "python3"
  },
  "language_info": {
   "codemirror_mode": {
    "name": "ipython",
    "version": 3
   },
   "file_extension": ".py",
   "mimetype": "text/x-python",
   "name": "python",
   "nbconvert_exporter": "python",
   "pygments_lexer": "ipython3",
   "version": "3.8.10"
  },
  "vscode": {
   "interpreter": {
    "hash": "916dbcbb3f70747c44a77c7bcd40155683ae19c65e1c03b4aa3499c5328201f1"
   }
  }
 },
 "nbformat": 4,
 "nbformat_minor": 5
}
